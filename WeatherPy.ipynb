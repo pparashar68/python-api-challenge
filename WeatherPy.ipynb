{
 "cells": [
  {
   "cell_type": "code",
   "execution_count": null,
   "metadata": {},
   "outputs": [],
   "source": [
    "from citipy import citipy\n",
    "from random import uniform # Draw samples from a uniform distribution\n",
    "import requests\n",
    "from pprint import pprint\n",
    "#from config import key"
   ]
  },
  {
   "cell_type": "code",
   "execution_count": 16,
   "metadata": {},
   "outputs": [],
   "source": [
    "cities = []\n",
    "weather = []\n",
    "citylat = []\n",
    "citylong = []\n",
    "countries = []\n",
    "temprature = []\n",
    "humidity = []\n",
    "cloudiness = []\n",
    "wind_speed = []\n",
    "cnt = 0\n",
    "#duplicate_cities = list()\n",
    "#weatherless_cities = set()\n",
    "while cnt < 5:\n",
    "    # generate a 500 unique latitude and longitude values\n",
    "    long = round(uniform(-180,180),6) #longitude ranges from -180 to 180\n",
    "    lat = round(uniform(-90, 90),6) #latitude ranges from -90 to 90\n",
    "    #feed into citipy the lat, long coordinates to return as city object\n",
    "    cnt = cnt + 1\n",
    "    city = citipy.nearest_city(lat, long)\n",
    "    city_name = city.city_name\n",
    "    cities.append(city_name)\n",
    "    citylat.append(lat)\n",
    "    citylong.append(long)\n",
    "    country = city.country_code\n",
    "    countries.append(country)\n",
    "weather_dict = {\"City_Name\": cities,\n",
    "                \"Country_Code\": countries,\n",
    "                \"Latitude\": citylat,\n",
    "                \"Longititude\": citylong}"
   ]
  },
  {
   "cell_type": "code",
   "execution_count": 17,
   "metadata": {},
   "outputs": [
    {
     "data": {
      "text/plain": [
       "{'City_Name': ['upernavik',\n",
       "  'bambous virieux',\n",
       "  'hambantota',\n",
       "  'hanko',\n",
       "  'bokspits'],\n",
       " 'Country_Code': ['gl', 'mu', 'lk', 'fi', 'bw'],\n",
       " 'Latitude': [83.022403, -29.051459, 2.142143, 59.796605, -26.251739],\n",
       " 'Longititude': [-57.650604, 70.359259, 85.277842, 22.611796, 20.846913]}"
      ]
     },
     "execution_count": 17,
     "metadata": {},
     "output_type": "execute_result"
    }
   ],
   "source": [
    "weather_dict"
   ]
  },
  {
   "cell_type": "code",
   "execution_count": 6,
   "metadata": {},
   "outputs": [
    {
     "data": {
      "text/plain": [
       "'cl'"
      ]
     },
     "execution_count": 6,
     "metadata": {},
     "output_type": "execute_result"
    }
   ],
   "source": [
    "city.country_code"
   ]
  },
  {
   "cell_type": "code",
   "execution_count": null,
   "metadata": {},
   "outputs": [],
   "source": []
  }
 ],
 "metadata": {
  "kernelspec": {
   "display_name": "Python 3",
   "language": "python",
   "name": "python3"
  },
  "language_info": {
   "codemirror_mode": {
    "name": "ipython",
    "version": 3
   },
   "file_extension": ".py",
   "mimetype": "text/x-python",
   "name": "python",
   "nbconvert_exporter": "python",
   "pygments_lexer": "ipython3",
   "version": "3.8.3"
  }
 },
 "nbformat": 4,
 "nbformat_minor": 4
}
