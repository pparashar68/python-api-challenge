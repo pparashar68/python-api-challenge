{
 "cells": [
  {
   "cell_type": "code",
   "execution_count": 19,
   "metadata": {},
   "outputs": [],
   "source": [
    "import pandas as pd\n",
    "from citipy import citipy\n",
    "from random import uniform # Draw samples from a uniform distribution\n",
    "import requests\n",
    "from pprint import pprint\n",
    "#from config import key"
   ]
  },
  {
   "cell_type": "code",
   "execution_count": 22,
   "metadata": {},
   "outputs": [],
   "source": [
    "cities = []\n",
    "weather = []\n",
    "citylat = []\n",
    "citylong = []\n",
    "countries = []\n",
    "temprature = []\n",
    "humidity = []\n",
    "cloudiness = []\n",
    "wind_speed = []\n",
    "cnt = 0\n",
    "#duplicate_cities = list()\n",
    "#weatherless_cities = set()\n",
    "while cnt < 500:\n",
    "    # generate a 500 unique latitude and longitude values\n",
    "    long = round(uniform(-180,180),6) #longitude ranges from -180 to 180\n",
    "    lat = round(uniform(-90, 90),6) #latitude ranges from -90 to 90\n",
    "    #feed into citipy the lat, long coordinates to return as city object\n",
    "    cnt = cnt + 1\n",
    "    city = citipy.nearest_city(lat, long)\n",
    "    city_name = city.city_name\n",
    "    cities.append(city_name)\n",
    "    citylat.append(lat)\n",
    "    citylong.append(long)\n",
    "    country = city.country_code\n",
    "    countries.append(country)\n",
    "weather_dict = {\"City_Name\": cities,\n",
    "                \"Country_Code\": countries,\n",
    "                \"Latitude\": citylat,\n",
    "                \"Longititude\": citylong}"
   ]
  },
  {
   "cell_type": "code",
   "execution_count": 24,
   "metadata": {},
   "outputs": [],
   "source": [
    "weather_df = pd.DataFrame(weather_dict)"
   ]
  },
  {
   "cell_type": "code",
   "execution_count": 25,
   "metadata": {},
   "outputs": [
    {
     "data": {
      "text/html": [
       "<div>\n",
       "<style scoped>\n",
       "    .dataframe tbody tr th:only-of-type {\n",
       "        vertical-align: middle;\n",
       "    }\n",
       "\n",
       "    .dataframe tbody tr th {\n",
       "        vertical-align: top;\n",
       "    }\n",
       "\n",
       "    .dataframe thead th {\n",
       "        text-align: right;\n",
       "    }\n",
       "</style>\n",
       "<table border=\"1\" class=\"dataframe\">\n",
       "  <thead>\n",
       "    <tr style=\"text-align: right;\">\n",
       "      <th></th>\n",
       "      <th>City_Name</th>\n",
       "      <th>Country_Code</th>\n",
       "      <th>Latitude</th>\n",
       "      <th>Longititude</th>\n",
       "    </tr>\n",
       "  </thead>\n",
       "  <tbody>\n",
       "    <tr>\n",
       "      <th>0</th>\n",
       "      <td>uzunovo</td>\n",
       "      <td>ru</td>\n",
       "      <td>54.403131</td>\n",
       "      <td>38.379582</td>\n",
       "    </tr>\n",
       "    <tr>\n",
       "      <th>1</th>\n",
       "      <td>nalut</td>\n",
       "      <td>ly</td>\n",
       "      <td>32.216498</td>\n",
       "      <td>11.070840</td>\n",
       "    </tr>\n",
       "    <tr>\n",
       "      <th>2</th>\n",
       "      <td>kapaa</td>\n",
       "      <td>us</td>\n",
       "      <td>36.487848</td>\n",
       "      <td>-177.084197</td>\n",
       "    </tr>\n",
       "  </tbody>\n",
       "</table>\n",
       "</div>"
      ],
      "text/plain": [
       "  City_Name Country_Code   Latitude  Longititude\n",
       "0   uzunovo           ru  54.403131    38.379582\n",
       "1     nalut           ly  32.216498    11.070840\n",
       "2     kapaa           us  36.487848  -177.084197"
      ]
     },
     "execution_count": 25,
     "metadata": {},
     "output_type": "execute_result"
    }
   ],
   "source": [
    "weather_df.head(3)"
   ]
  },
  {
   "cell_type": "code",
   "execution_count": null,
   "metadata": {},
   "outputs": [],
   "source": [
    "city.country_code"
   ]
  }
 ],
 "metadata": {
  "kernelspec": {
   "display_name": "Python 3",
   "language": "python",
   "name": "python3"
  },
  "language_info": {
   "codemirror_mode": {
    "name": "ipython",
    "version": 3
   },
   "file_extension": ".py",
   "mimetype": "text/x-python",
   "name": "python",
   "nbconvert_exporter": "python",
   "pygments_lexer": "ipython3",
   "version": "3.8.3"
  }
 },
 "nbformat": 4,
 "nbformat_minor": 4
}
